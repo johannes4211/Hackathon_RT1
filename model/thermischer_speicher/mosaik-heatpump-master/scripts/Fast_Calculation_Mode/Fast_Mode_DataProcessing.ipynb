{
 "cells": [
  {
   "cell_type": "markdown",
   "source": [
    "# Tutorial-Fast mode data processing\n",
    "\n",
    "This tutorial explains the steps to be followed to process the data that has been generated for the\n",
    "fast calculation mode. In this example, the fast mode data for\"Air_30kW\" model is processed."
   ],
   "metadata": {
    "collapsed": false
   }
  },
  {
   "cell_type": "code",
   "execution_count": null,
   "metadata": {
    "collapsed": true
   },
   "outputs": [],
   "source": [
    "import json\n",
    "import pandas as pd\n",
    "import numpy as np"
   ]
  },
  {
   "cell_type": "code",
   "execution_count": null,
   "outputs": [],
   "source": [
    "with open(\"../../mosaik_components/heatpump/cop_m_data.json\") as feedsjson:\n",
    "    feeds = json.load(feedsjson)"
   ],
   "metadata": {
    "collapsed": false,
    "pycharm": {
     "name": "#%%\n"
    }
   }
  },
  {
   "cell_type": "code",
   "execution_count": null,
   "outputs": [],
   "source": [
    "df = pd.DataFrame.from_dict(feeds['Air_30kW'], orient='index')\n",
    "# print(df)"
   ],
   "metadata": {
    "collapsed": false,
    "pycharm": {
     "name": "#%%\n"
    }
   }
  },
  {
   "cell_type": "code",
   "execution_count": null,
   "outputs": [],
   "source": [
    "df1 = df.copy()"
   ],
   "metadata": {
    "collapsed": false,
    "pycharm": {
     "name": "#%%\n"
    }
   }
  },
  {
   "cell_type": "code",
   "execution_count": null,
   "outputs": [],
   "source": [
    "def dict_to_df(sub_dict1):\n",
    "    sub_df1 = pd.DataFrame.from_dict(sub_dict1, orient='index')\n",
    "    sub_df1.replace(0,np.nan,inplace=True)\n",
    "    return sub_df1"
   ],
   "metadata": {
    "collapsed": false,
    "pycharm": {
     "name": "#%%\n"
    }
   }
  },
  {
   "cell_type": "code",
   "execution_count": null,
   "outputs": [],
   "source": [
    "df1 = df1.applymap(dict_to_df)\n"
   ],
   "metadata": {
    "collapsed": false,
    "pycharm": {
     "name": "#%%\n"
    }
   }
  },
  {
   "cell_type": "code",
   "execution_count": null,
   "outputs": [],
   "source": [
    "def data_fill_func(sub_df1):\n",
    "    sub_df1.interpolate(limit=2,limit_area='inside',inplace=True)\n",
    "    kw = dict(fill_value=\"extrapolate\", limit_direction=\"both\")\n",
    "    sub_df1.interpolate(inplace=True, **kw)\n",
    "    return sub_df1"
   ],
   "metadata": {
    "collapsed": false,
    "pycharm": {
     "name": "#%%\n"
    }
   }
  },
  {
   "cell_type": "code",
   "execution_count": null,
   "outputs": [],
   "source": [
    "df1=df1.applymap(data_fill_func)\n",
    "df1.index = df1.index.astype(float)\n",
    "df1.columns = df1.columns.astype(float)"
   ],
   "metadata": {
    "collapsed": false,
    "pycharm": {
     "name": "#%%\n"
    }
   }
  },
  {
   "cell_type": "code",
   "execution_count": null,
   "outputs": [],
   "source": [
    "df2 = df1.copy()"
   ],
   "metadata": {
    "collapsed": false,
    "pycharm": {
     "name": "#%%\n"
    }
   }
  },
  {
   "cell_type": "code",
   "execution_count": null,
   "outputs": [],
   "source": [
    "def check_if_empty(df_chk):\n",
    "    return df_chk.isna().all()[0]\n",
    "\n",
    "def df_data_fill(sub_df, idx, main_df):\n",
    "    # print(idx)\n",
    "    col=sub_df['index']\n",
    "    col_min = min(main_df.columns)\n",
    "    col_max = max(main_df.columns)\n",
    "    idx_min = min(main_df.index)\n",
    "    idx_max = max(main_df.index)\n",
    "    if not sub_df[1].empty:\n",
    "        if check_if_empty(sub_df[1]):\n",
    "            skip = False\n",
    "            col_new = col -1\n",
    "            if col_new < col_min:\n",
    "                col_new = col_min\n",
    "            sub_df_new = main_df.loc[idx, col_new]\n",
    "            if not sub_df_new.empty:\n",
    "                if not check_if_empty(sub_df_new) and sub_df[1].index.equals(sub_df_new.index):\n",
    "                    sub_df[1] = sub_df_new\n",
    "                    skip = True\n",
    "            if not skip:\n",
    "                col_new = col + 1\n",
    "                if col_new > col_max:\n",
    "                    col_new = col_max\n",
    "                sub_df_new = main_df.loc[idx, col_new]\n",
    "                if not sub_df_new.empty:\n",
    "                    if not check_if_empty(sub_df_new) and sub_df[1].index.equals(sub_df_new.index):\n",
    "                        sub_df[1] = sub_df_new\n",
    "                        skip = True\n",
    "            if not skip:\n",
    "                idx_new = idx - 1\n",
    "                if idx_new < idx_min:\n",
    "                    idx_new = idx_min\n",
    "                sub_df_new = main_df.loc[idx_new, col]\n",
    "                if not sub_df_new.empty:\n",
    "                    if not check_if_empty(sub_df_new) and sub_df[1].index.equals(sub_df_new.index):\n",
    "                        sub_df[1] = sub_df_new\n",
    "                        skip = True\n",
    "            if not skip:\n",
    "                idx_new = idx + 1\n",
    "                if idx_new > idx_max:\n",
    "                    idx_new = idx_max\n",
    "                sub_df_new = main_df.loc[idx_new, col]\n",
    "                if not sub_df_new.empty:\n",
    "                    if not check_if_empty(sub_df_new) and sub_df[1].index.equals(sub_df_new.index):\n",
    "                        sub_df[1] = sub_df_new\n",
    "\n",
    "            main_df.at[idx, col] = sub_df[1]\n",
    "\n",
    "    return sub_df[1]"
   ],
   "metadata": {
    "collapsed": false,
    "pycharm": {
     "name": "#%%\n"
    }
   }
  },
  {
   "cell_type": "code",
   "execution_count": null,
   "outputs": [],
   "source": [
    "df2 = df2.apply(lambda x: x.reset_index().apply(lambda d: df_data_fill(d,idx=x.name, main_df=df1), axis=1), axis=1)"
   ],
   "metadata": {
    "collapsed": false,
    "pycharm": {
     "name": "#%%\n"
    }
   }
  },
  {
   "cell_type": "code",
   "execution_count": null,
   "outputs": [],
   "source": [
    "df1.index = df1.index.astype(int)\n",
    "df1.columns = df1.columns.astype(int)"
   ],
   "metadata": {
    "collapsed": false,
    "pycharm": {
     "name": "#%%\n"
    }
   }
  },
  {
   "cell_type": "code",
   "execution_count": null,
   "outputs": [],
   "source": [
    "def df_fillna(sub_df1):\n",
    "    sub_df1.fillna(0,inplace=True)\n",
    "    return sub_df1"
   ],
   "metadata": {
    "collapsed": false,
    "pycharm": {
     "name": "#%%\n"
    }
   }
  },
  {
   "cell_type": "code",
   "execution_count": null,
   "outputs": [],
   "source": [
    "df1 = df1.applymap(df_fillna)"
   ],
   "metadata": {
    "collapsed": false,
    "pycharm": {
     "name": "#%%\n"
    }
   }
  },
  {
   "cell_type": "code",
   "execution_count": null,
   "outputs": [],
   "source": [
    "model_name = 'Air_30kW'\n",
    "result = df1.to_json(orient=\"index\")\n",
    "parsed = json.loads(result)\n",
    "json.dumps(parsed, indent=4)"
   ],
   "metadata": {
    "collapsed": false,
    "pycharm": {
     "name": "#%%\n"
    }
   }
  },
  {
   "cell_type": "code",
   "execution_count": null,
   "outputs": [],
   "source": [
    "with open(\"../../mosaik_components/heatpump/cop_m_data.json\") as feedsjson:\n",
    "    feeds = json.load(feedsjson)\n",
    "\n",
    "if model_name in feeds.keys():\n",
    "    a = input('The model name already exists and must be replaced. Do you want to replace the data (y/n)? : ')\n",
    "    if a.lower() == 'y':\n",
    "        feeds[model_name]= parsed\n",
    "    elif a.lower() =='n':\n",
    "        model_name = input('Enter new model name')\n",
    "        feeds[model_name]= parsed\n",
    "    else:\n",
    "        print(\"Wrong input. Execute cell again.\")\n",
    "else:\n",
    "    feeds[model_name] = parsed"
   ],
   "metadata": {
    "collapsed": false,
    "pycharm": {
     "name": "#%%\n"
    }
   }
  },
  {
   "cell_type": "code",
   "execution_count": null,
   "outputs": [],
   "source": [
    "with open(\"../../mosaik_components/heatpump/cop_m_data.json\", \"w\") as write_file:\n",
    "    json.dump(feeds, write_file, indent=4)"
   ],
   "metadata": {
    "collapsed": false,
    "pycharm": {
     "name": "#%%\n"
    }
   }
  },
  {
   "cell_type": "code",
   "execution_count": null,
   "outputs": [],
   "source": [],
   "metadata": {
    "collapsed": false,
    "pycharm": {
     "name": "#%%\n",
     "is_executing": true
    }
   }
  }
 ],
 "metadata": {
  "kernelspec": {
   "display_name": "Python 3",
   "language": "python",
   "name": "python3"
  },
  "language_info": {
   "codemirror_mode": {
    "name": "ipython",
    "version": 2
   },
   "file_extension": ".py",
   "mimetype": "text/x-python",
   "name": "python",
   "nbconvert_exporter": "python",
   "pygments_lexer": "ipython2",
   "version": "2.7.6"
  }
 },
 "nbformat": 4,
 "nbformat_minor": 0
}
